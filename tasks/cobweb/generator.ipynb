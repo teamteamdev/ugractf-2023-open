{
 "cells": [
  {
   "cell_type": "code",
   "execution_count": 1,
   "id": "a7cb8ca7-5270-4d29-9fb7-09bbffdf409e",
   "metadata": {},
   "outputs": [
    {
     "name": "stdout",
     "output_type": "stream",
     "text": [
      "Defaulting to user installation because normal site-packages is not writeable\n",
      "Requirement already satisfied: ani_file in /home/ivanq/.local/lib/python3.10/site-packages (0.0.2)\n",
      "Requirement already satisfied: pillow in /usr/lib/python3/dist-packages (9.2.0)\n",
      "Requirement already satisfied: colour in /home/ivanq/.local/lib/python3.10/site-packages (0.1.5)\n"
     ]
    }
   ],
   "source": [
    "!python -m pip install ani_file pillow colour"
   ]
  },
  {
   "cell_type": "code",
   "execution_count": 2,
   "id": "ddb776a7-7566-4ecf-b03c-cad57180ec4f",
   "metadata": {},
   "outputs": [],
   "source": [
    "# jupyter junk\n",
    "def showm(images):\n",
    "    for i in images:\n",
    "        display(i)"
   ]
  },
  {
   "cell_type": "code",
   "execution_count": 3,
   "id": "fc216884-45e2-4307-9802-2f2177a76376",
   "metadata": {},
   "outputs": [],
   "source": [
    "from ani_file import ani_file\n",
    "from itertools import cycle\n",
    "from random import shuffle\n",
    "from PIL import ImageFont, ImageDraw, Image\n",
    "import numpy as np\n",
    "from colour import Color\n",
    "from io import BytesIO\n",
    "import struct, builtins"
   ]
  },
  {
   "cell_type": "code",
   "execution_count": 27,
   "id": "299c6e0e-0ccc-470f-82cf-a076116e1dc8",
   "metadata": {
    "scrolled": true
   },
   "outputs": [],
   "source": [
    "def draw_letter(image, letter):\n",
    "    im = image.copy()\n",
    "    draw = ImageDraw.Draw(im)\n",
    "    font = ImageFont.load(\"font/tom-thumb.pil\")\n",
    "    draw.text((26, 26), letter, font=font, fill=\"#000\")\n",
    "    return im\n",
    "\n",
    "def draw_msg(image, msg):\n",
    "    seq = zip(cycle([image]), msg)\n",
    "    return [draw_letter(image, ch) for image, ch in seq]\n",
    "\n",
    "def space_text(text, n):\n",
    "    return (\" \" * n).join(list(text)) + (\" \" * n)\n",
    "\n",
    "def replace_color(image, color):\n",
    "    pxs = np.array(image)\n",
    "    r, g, b, a = pxs.T\n",
    "    key = (r == 0) & (g == 0) & (b == 0) & (a == 255)\n",
    "    pxs[key.T] = color\n",
    "    return Image.fromarray(pxs)\n",
    "\n",
    "def paint_gradient(images, color_a, color_b):\n",
    "    conv_color  = lambda color: (*[int(x * 255) for x in color.get_rgb()], 255)\n",
    "    gradient = Color(color_a).range_to(Color(color_b), len(images))\n",
    "    colors   = map(conv_color, gradient)\n",
    "    return [replace_color(image, color) for image, color in zip(images, colors)]\n",
    "\n",
    "def ico(image):\n",
    "    buf = BytesIO()\n",
    "    image.save(buf, format=\"ico\", bitmap_format=\"bmp\", sizes=[(32, 32)])\n",
    "    buf.seek(0)\n",
    "    return buf\n",
    "\n",
    "def msg_img_seq(msg, image, color_a=\"#FF00FF\", color_b=\"#FF0000\", spacing=4):\n",
    "    seq = paint_gradient(\n",
    "        draw_msg(\n",
    "            image, \n",
    "            space_text(msg, spacing)\n",
    "        ), color_a, color_b)\n",
    "    icos = map(ico, seq)\n",
    "    return list(icos)\n",
    "\n",
    "class my_ani_write(ani_file.ani_write):\n",
    "    def _pack_anih(self):\n",
    "        self._datawritten += 44 #Size of 11I of anih chunk\n",
    "        return struct.pack(\"<4s10I\",b\"anih\",36,36,self._nFrames,self._nSteps,self._iWidth,self._iHeight,self._iBitCount,self._nPlanes,self._iDispRate,self._bfAttributes)\n",
    "\n",
    "    def _pack_info(self):\n",
    "        if hasattr(self,\"_inam\") or hasattr(self,\"_iart\"):\n",
    "            inamChunk,iartChunk = b\"\",b\"\"\n",
    "            # IMPORTANT: _inam and _iart need to be padded to even length for Chunk to work\n",
    "            if hasattr(self,\"_inam\"):\n",
    "                inamChunk = struct.pack(f'<4sI{len(self._inam)}s{\"x\"*(len(self._inam)%2)}' ,b\"INAM\",len(self._inam),self._inam)\n",
    "            if hasattr(self,\"_iart\"):\n",
    "                iartChunk = struct.pack(f'<4sI{len(self._iart)}s{\"x\"*(len(self._iart)%2)}',b\"IART\",len(self._iart),self._iart)\n",
    "            \n",
    "            self._datawritten += 12 + len(iartChunk) + len(inamChunk)\n",
    "            return struct.pack(\"<4sI4s\", b\"LIST\",4+len(inamChunk)+len(iartChunk),b\"INFO\") + inamChunk + iartChunk\n",
    "\n",
    "    def _pack_frames(self):\n",
    "        print(self.__dict__)\n",
    "        iconSize = 0\n",
    "        iconChunks = b\"\"\n",
    "        for icon in self._framespath:\n",
    "            data = icon.read()\n",
    "            iconChunks += struct.pack(\"<4sI\", b\"icon\", len(data)) + data\n",
    "            iconSize += 8 + len(data)\n",
    "        self._datawritten += 12 + iconSize\n",
    "        return struct.pack(\"<4sI4s\", b\"LIST\", 4+iconSize, b\"fram\") + iconChunks"
   ]
  },
  {
   "cell_type": "code",
   "execution_count": null,
   "id": "7b321ac2-58d3-4a96-b72d-49df7899d468",
   "metadata": {},
   "outputs": [],
   "source": []
  },
  {
   "cell_type": "code",
   "execution_count": 28,
   "id": "c49b94a1-f143-46ee-b496-033aad206e70",
   "metadata": {},
   "outputs": [
    {
     "name": "stdout",
     "output_type": "stream",
     "text": [
      "{'_i_opened_the_file': <_io.BufferedWriter name='test.ani'>, '_file': <_io.BufferedWriter name='test.ani'>, '_nFrames': 180, '_nSteps': 180, '_iDispRate': 8, '_bfAttributes': 1, '_iWidth': 0, '_iHeight': 0, '_iBitCount': 0, '_nPlanes': 0, '_framespath': [<_io.BytesIO object at 0x7f32903a1120>, <_io.BytesIO object at 0x7f32b5de3ce0>, <_io.BytesIO object at 0x7f32911fe700>, <_io.BytesIO object at 0x7f3290308a40>, <_io.BytesIO object at 0x7f329030bd30>, <_io.BytesIO object at 0x7f329030bb50>, <_io.BytesIO object at 0x7f329030bf10>, <_io.BytesIO object at 0x7f3290308810>, <_io.BytesIO object at 0x7f32903e12b0>, <_io.BytesIO object at 0x7f32903e1490>, <_io.BytesIO object at 0x7f32903e1850>, <_io.BytesIO object at 0x7f32903e11c0>, <_io.BytesIO object at 0x7f32903e24d0>, <_io.BytesIO object at 0x7f32903e0090>, <_io.BytesIO object at 0x7f32903e0f40>, <_io.BytesIO object at 0x7f32903e0130>, <_io.BytesIO object at 0x7f32903e2430>, <_io.BytesIO object at 0x7f32903e1df0>, <_io.BytesIO object at 0x7f32903e2340>, <_io.BytesIO object at 0x7f32903e2570>, <_io.BytesIO object at 0x7f32903e2660>, <_io.BytesIO object at 0x7f32903e28e0>, <_io.BytesIO object at 0x7f32903e29d0>, <_io.BytesIO object at 0x7f32903e2700>, <_io.BytesIO object at 0x7f32903e2d40>, <_io.BytesIO object at 0x7f32903e26b0>, <_io.BytesIO object at 0x7f32903e2b60>, <_io.BytesIO object at 0x7f32903e2c00>, <_io.BytesIO object at 0x7f32903e0d10>, <_io.BytesIO object at 0x7f32903e0a40>, <_io.BytesIO object at 0x7f32903e0c20>, <_io.BytesIO object at 0x7f32903e3790>, <_io.BytesIO object at 0x7f32903e0b80>, <_io.BytesIO object at 0x7f32903e0bd0>, <_io.BytesIO object at 0x7f32903e2ed0>, <_io.BytesIO object at 0x7f32903e2fc0>, <_io.BytesIO object at 0x7f32903e2e30>, <_io.BytesIO object at 0x7f32903e2750>, <_io.BytesIO object at 0x7f32903e3290>, <_io.BytesIO object at 0x7f32903e3060>, <_io.BytesIO object at 0x7f32903e3100>, <_io.BytesIO object at 0x7f32903e2de0>, <_io.BytesIO object at 0x7f32903e2e80>, <_io.BytesIO object at 0x7f32903e0220>, <_io.BytesIO object at 0x7f32903e00e0>, <_io.BytesIO object at 0x7f32903e23e0>, <_io.BytesIO object at 0x7f32903e3470>, <_io.BytesIO object at 0x7f32903e3380>, <_io.BytesIO object at 0x7f329030b060>, <_io.BytesIO object at 0x7f329030a6b0>, <_io.BytesIO object at 0x7f32b5de3ab0>, <_io.BytesIO object at 0x7f3290349440>, <_io.BytesIO object at 0x7f32903e0180>, <_io.BytesIO object at 0x7f32903e2840>, <_io.BytesIO object at 0x7f32903e3010>, <_io.BytesIO object at 0x7f329030a750>, <_io.BytesIO object at 0x7f32903e2a20>, <_io.BytesIO object at 0x7f32903e2ac0>, <_io.BytesIO object at 0x7f32903e0ae0>, <_io.BytesIO object at 0x7f32903e2cf0>, <_io.BytesIO object at 0x7f32903e0e50>, <_io.BytesIO object at 0x7f32903e2bb0>, <_io.BytesIO object at 0x7f32903e2930>, <_io.BytesIO object at 0x7f32903e27a0>, <_io.BytesIO object at 0x7f32903e2890>, <_io.BytesIO object at 0x7f32903e2ca0>, <_io.BytesIO object at 0x7f32903e2160>, <_io.BytesIO object at 0x7f32903e01d0>, <_io.BytesIO object at 0x7f32903e1a30>, <_io.BytesIO object at 0x7f32903e1580>, <_io.BytesIO object at 0x7f32903e14e0>, <_io.BytesIO object at 0x7f32903e31f0>, <_io.BytesIO object at 0x7f32903e3a10>, <_io.BytesIO object at 0x7f32903e3b00>, <_io.BytesIO object at 0x7f32903e39c0>, <_io.BytesIO object at 0x7f32903e30b0>, <_io.BytesIO object at 0x7f32903e3150>, <_io.BytesIO object at 0x7f32903e32e0>, <_io.BytesIO object at 0x7f32903e3ce0>, <_io.BytesIO object at 0x7f32903e3c90>, <_io.BytesIO object at 0x7f32903e3ba0>, <_io.BytesIO object at 0x7f32903e3420>, <_io.BytesIO object at 0x7f32903e2b10>, <_io.BytesIO object at 0x7f32903e3dd0>, <_io.BytesIO object at 0x7f32903e3d80>, <_io.BytesIO object at 0x7f32903e3e20>, <_io.BytesIO object at 0x7f32903e3f10>, <_io.BytesIO object at 0x7f32903e3ec0>, <_io.BytesIO object at 0x7f3290300ae0>, <_io.BytesIO object at 0x7f3290300090>, <_io.BytesIO object at 0x7f3290300bd0>, <_io.BytesIO object at 0x7f3290303c40>, <_io.BytesIO object at 0x7f32903001d0>, <_io.BytesIO object at 0x7f32903000e0>, <_io.BytesIO object at 0x7f3290300720>, <_io.BytesIO object at 0x7f32903037e0>, <_io.BytesIO object at 0x7f3290300e00>, <_io.BytesIO object at 0x7f3290300860>, <_io.BytesIO object at 0x7f3290301120>, <_io.BytesIO object at 0x7f3290301e90>, <_io.BytesIO object at 0x7f3290301990>, <_io.BytesIO object at 0x7f3290301850>, <_io.BytesIO object at 0x7f32903023e0>, <_io.BytesIO object at 0x7f3290301ee0>, <_io.BytesIO object at 0x7f32903e3d30>, <_io.BytesIO object at 0x7f32903e2c50>, <_io.BytesIO object at 0x7f32903e33d0>, <_io.BytesIO object at 0x7f32903e3c40>, <_io.BytesIO object at 0x7f32903e3970>, <_io.BytesIO object at 0x7f32903e27f0>, <_io.BytesIO object at 0x7f32903e3ab0>, <_io.BytesIO object at 0x7f32903e1800>, <_io.BytesIO object at 0x7f32903e2480>, <_io.BytesIO object at 0x7f32903e2520>, <_io.BytesIO object at 0x7f32903e2610>, <_io.BytesIO object at 0x7f32903e2a70>, <_io.BytesIO object at 0x7f32903e0c70>, <_io.BytesIO object at 0x7f32903e0b30>, <_io.BytesIO object at 0x7f32903e2f20>, <_io.BytesIO object at 0x7f32903e31a0>, <_io.BytesIO object at 0x7f32903e2f70>, <_io.BytesIO object at 0x7f32903e3240>, <_io.BytesIO object at 0x7f329030be70>, <_io.BytesIO object at 0x7f3290309c10>, <_io.BytesIO object at 0x7f3290301a30>, <_io.BytesIO object at 0x7f3290301fd0>, <_io.BytesIO object at 0x7f3290301080>, <_io.BytesIO object at 0x7f32903005e0>, <_io.BytesIO object at 0x7f3290303d80>, <_io.BytesIO object at 0x7f3290303b00>, <_io.BytesIO object at 0x7f3290300cc0>, <_io.BytesIO object at 0x7f3290302020>, <_io.BytesIO object at 0x7f3290302390>, <_io.BytesIO object at 0x7f3290301620>, <_io.BytesIO object at 0x7f3290302250>, <_io.BytesIO object at 0x7f32903022a0>, <_io.BytesIO object at 0x7f3290302110>, <_io.BytesIO object at 0x7f3290301f30>, <_io.BytesIO object at 0x7f3290300040>, <_io.BytesIO object at 0x7f3290301cb0>, <_io.BytesIO object at 0x7f3290300270>, <_io.BytesIO object at 0x7f32903011c0>, <_io.BytesIO object at 0x7f3290302750>, <_io.BytesIO object at 0x7f32903026b0>, <_io.BytesIO object at 0x7f32903029d0>, <_io.BytesIO object at 0x7f3290302890>, <_io.BytesIO object at 0x7f32903033d0>, <_io.BytesIO object at 0x7f32903036f0>, <_io.BytesIO object at 0x7f3290302ca0>, <_io.BytesIO object at 0x7f3290302700>, <_io.BytesIO object at 0x7f3290302840>, <_io.BytesIO object at 0x7f3290302de0>, <_io.BytesIO object at 0x7f3290303bf0>, <_io.BytesIO object at 0x7f3290303c90>, <_io.BytesIO object at 0x7f3290303970>, <_io.BytesIO object at 0x7f3290302b60>, <_io.BytesIO object at 0x7f3290302ed0>, <_io.BytesIO object at 0x7f32903010d0>, <_io.BytesIO object at 0x7f3290303470>, <_io.BytesIO object at 0x7f32903035b0>, <_io.BytesIO object at 0x7f3290308630>, <_io.BytesIO object at 0x7f32903e2390>, <_io.BytesIO object at 0x7f32903e0db0>, <_io.BytesIO object at 0x7f32903e2980>, <_io.BytesIO object at 0x7f32903e0fe0>, <_io.BytesIO object at 0x7f32903e3510>, <_io.BytesIO object at 0x7f32903e3920>, <_io.BytesIO object at 0x7f32903e3bf0>, <_io.BytesIO object at 0x7f32903e3fb0>, <_io.BytesIO object at 0x7f32903e3f60>, <_io.BytesIO object at 0x7f3290303790>, <_io.BytesIO object at 0x7f3290301d00>, <_io.BytesIO object at 0x7f3290303ab0>, <_io.BytesIO object at 0x7f3290303a10>, <_io.BytesIO object at 0x7f3290301350>, <_io.BytesIO object at 0x7f3290302f70>, <_io.BytesIO object at 0x7f3290301b20>, <_io.BytesIO object at 0x7f32903013f0>, <_io.BytesIO object at 0x7f32903013a0>, <_io.BytesIO object at 0x7f32903021b0>], '_datawritten': 1572, '_seq': (0, 1, 2, 3, 4, 5, 6, 7, 8, 9, 10, 11, 12, 13, 14, 15, 16, 17, 18, 19, 20, 21, 22, 23, 24, 25, 26, 27, 28, 29, 30, 31, 32, 33, 34, 35, 36, 37, 38, 39, 40, 41, 42, 43, 44, 45, 46, 47, 48, 49, 50, 51, 52, 53, 54, 55, 56, 57, 58, 59, 60, 61, 62, 63, 64, 65, 66, 67, 68, 69, 70, 71, 72, 73, 74, 75, 76, 77, 78, 79, 80, 81, 82, 83, 84, 85, 86, 87, 88, 89, 90, 91, 92, 93, 94, 95, 96, 97, 98, 99, 100, 101, 102, 103, 104, 105, 106, 107, 108, 109, 110, 111, 112, 113, 114, 115, 116, 117, 118, 119, 120, 121, 122, 123, 124, 125, 126, 127, 128, 129, 130, 131, 132, 133, 134, 135, 136, 137, 138, 139, 140, 141, 142, 143, 144, 145, 146, 147, 148, 149, 150, 151, 152, 153, 154, 155, 156, 157, 158, 159, 160, 161, 162, 163, 164, 165, 166, 167, 168, 169, 170, 171, 172, 173, 174, 175, 176, 177, 178, 179), '_rate': [2, 2, 2, 2, 2, 2, 2, 2, 2, 2, 2, 2, 2, 2, 2, 2, 2, 2, 2, 2, 2, 2, 2, 2, 2, 2, 2, 2, 2, 2, 2, 2, 2, 2, 2, 2, 2, 2, 2, 2, 2, 2, 2, 2, 2, 2, 2, 2, 2, 2, 2, 2, 2, 2, 2, 2, 2, 2, 2, 2, 2, 2, 2, 2, 2, 2, 2, 2, 2, 2, 2, 2, 2, 2, 2, 2, 2, 2, 2, 2, 2, 2, 2, 2, 2, 2, 2, 2, 2, 2, 2, 2, 2, 2, 2, 2, 2, 2, 2, 2, 2, 2, 2, 2, 2, 2, 2, 2, 2, 2, 2, 2, 2, 2, 2, 2, 2, 2, 2, 2, 2, 2, 2, 2, 2, 2, 2, 2, 2, 2, 2, 2, 2, 2, 2, 2, 2, 2, 2, 2, 2, 2, 2, 2, 2, 2, 2, 2, 2, 2, 2, 2, 2, 2, 2, 2, 2, 2, 2, 2, 2, 2, 2, 2, 2, 2, 2, 2, 2, 2, 2, 2, 2, 2, 2, 2, 2, 2, 2, 2], '_iart': b'voronbay@uniiu.su', '_inam': b'Pautinka 001 (06.05.1997)'}\n"
     ]
    }
   ],
   "source": [
    "FLAG = \"ugra_what_a_dummy_flag_1238098fffeea\"\n",
    "cur = Image.open('cursor.png')\n",
    "seq = msg_img_seq(FLAG, cur)\n",
    "seq_idx = list(range(len(seq)))\n",
    "# shuffle(seq_idx); shuffle(seq_idx)\n",
    "rate = [2 for _ in seq_idx]\n",
    "\n",
    "with open(\"test.ico\", \"wb\") as f: f.write(seq[0].read())\n",
    "\n",
    "test = my_ani_write(\"test.ani\")\n",
    "test.setframespath(seq)\n",
    "test.setseq(tuple(seq_idx))\n",
    "test.setrate(rate)\n",
    "test.setauthor(\"voronbay@uniiu.su\")\n",
    "test.setname(\"Pautinka 001 (06.05.1997)\")\n",
    "test.close()"
   ]
  },
  {
   "cell_type": "code",
   "execution_count": 7,
   "id": "191f34e5-6422-4fd3-aba9-a2c46ad5a520",
   "metadata": {},
   "outputs": [
    {
     "ename": "FileNotFoundError",
     "evalue": "[Errno 2] No such file or directory: '/Users/v/Downloads/gam1571.ani'",
     "output_type": "error",
     "traceback": [
      "\u001b[0;31m---------------------------------------------------------------------------\u001b[0m",
      "\u001b[0;31mFileNotFoundError\u001b[0m                         Traceback (most recent call last)",
      "\u001b[0;32m/tmp/ipykernel_211265/492059855.py\u001b[0m in \u001b[0;36m<module>\u001b[0;34m\u001b[0m\n\u001b[1;32m      1\u001b[0m \u001b[0;32mfrom\u001b[0m \u001b[0mani_file\u001b[0m \u001b[0;32mimport\u001b[0m \u001b[0mani_file\u001b[0m\u001b[0;34m\u001b[0m\u001b[0;34m\u001b[0m\u001b[0m\n\u001b[0;32m----> 2\u001b[0;31m \u001b[0mf\u001b[0m \u001b[0;34m=\u001b[0m \u001b[0mani_file\u001b[0m\u001b[0;34m.\u001b[0m\u001b[0mopen\u001b[0m\u001b[0;34m(\u001b[0m\u001b[0;34m'/Users/v/Downloads/gam1571.ani'\u001b[0m\u001b[0;34m,\u001b[0m \u001b[0;34m'rb'\u001b[0m\u001b[0;34m)\u001b[0m\u001b[0;34m\u001b[0m\u001b[0;34m\u001b[0m\u001b[0m\n\u001b[0m\u001b[1;32m      3\u001b[0m \u001b[0mf\u001b[0m\u001b[0;34m.\u001b[0m\u001b[0mgetrate\u001b[0m\u001b[0;34m(\u001b[0m\u001b[0;34m)\u001b[0m\u001b[0;34m\u001b[0m\u001b[0;34m\u001b[0m\u001b[0m\n",
      "\u001b[0;32m~/.local/lib/python3.10/site-packages/ani_file/ani_file.py\u001b[0m in \u001b[0;36mopen\u001b[0;34m(file, mode)\u001b[0m\n\u001b[1;32m    304\u001b[0m             \u001b[0mmode\u001b[0m \u001b[0;34m=\u001b[0m \u001b[0;34m\"rb\"\u001b[0m\u001b[0;34m\u001b[0m\u001b[0;34m\u001b[0m\u001b[0m\n\u001b[1;32m    305\u001b[0m     \u001b[0;32mif\u001b[0m \u001b[0mmode\u001b[0m \u001b[0;32min\u001b[0m \u001b[0;34m(\u001b[0m\u001b[0;34m\"r\"\u001b[0m\u001b[0;34m,\u001b[0m \u001b[0;34m\"rb\"\u001b[0m\u001b[0;34m)\u001b[0m\u001b[0;34m:\u001b[0m\u001b[0;34m\u001b[0m\u001b[0;34m\u001b[0m\u001b[0m\n\u001b[0;32m--> 306\u001b[0;31m         \u001b[0;32mreturn\u001b[0m \u001b[0mani_read\u001b[0m\u001b[0;34m(\u001b[0m\u001b[0mfile\u001b[0m\u001b[0;34m)\u001b[0m\u001b[0;34m\u001b[0m\u001b[0;34m\u001b[0m\u001b[0m\n\u001b[0m\u001b[1;32m    307\u001b[0m     \u001b[0;32melif\u001b[0m \u001b[0mmode\u001b[0m \u001b[0;32min\u001b[0m \u001b[0;34m(\u001b[0m\u001b[0;34m\"w\"\u001b[0m\u001b[0;34m,\u001b[0m \u001b[0;34m\"wb\"\u001b[0m\u001b[0;34m)\u001b[0m\u001b[0;34m:\u001b[0m\u001b[0;34m\u001b[0m\u001b[0;34m\u001b[0m\u001b[0m\n\u001b[1;32m    308\u001b[0m         \u001b[0;32mreturn\u001b[0m \u001b[0mani_write\u001b[0m\u001b[0;34m(\u001b[0m\u001b[0mfile\u001b[0m\u001b[0;34m)\u001b[0m\u001b[0;34m\u001b[0m\u001b[0;34m\u001b[0m\u001b[0m\n",
      "\u001b[0;32m~/.local/lib/python3.10/site-packages/ani_file/ani_file.py\u001b[0m in \u001b[0;36m__init__\u001b[0;34m(self, file)\u001b[0m\n\u001b[1;32m     48\u001b[0m         \u001b[0mself\u001b[0m\u001b[0;34m.\u001b[0m\u001b[0m_i_opened_the_file\u001b[0m \u001b[0;34m=\u001b[0m \u001b[0;32mNone\u001b[0m\u001b[0;34m\u001b[0m\u001b[0;34m\u001b[0m\u001b[0m\n\u001b[1;32m     49\u001b[0m         \u001b[0;32mif\u001b[0m \u001b[0misinstance\u001b[0m\u001b[0;34m(\u001b[0m\u001b[0mfile\u001b[0m\u001b[0;34m,\u001b[0m \u001b[0mstr\u001b[0m\u001b[0;34m)\u001b[0m\u001b[0;34m:\u001b[0m\u001b[0;34m\u001b[0m\u001b[0;34m\u001b[0m\u001b[0m\n\u001b[0;32m---> 50\u001b[0;31m             \u001b[0mfile\u001b[0m \u001b[0;34m=\u001b[0m \u001b[0mbuiltins\u001b[0m\u001b[0;34m.\u001b[0m\u001b[0mopen\u001b[0m\u001b[0;34m(\u001b[0m\u001b[0mfile\u001b[0m\u001b[0;34m,\u001b[0m \u001b[0;34m'rb'\u001b[0m\u001b[0;34m)\u001b[0m\u001b[0;34m\u001b[0m\u001b[0;34m\u001b[0m\u001b[0m\n\u001b[0m\u001b[1;32m     51\u001b[0m             \u001b[0mself\u001b[0m\u001b[0;34m.\u001b[0m\u001b[0m_i_opened_the_file\u001b[0m \u001b[0;34m=\u001b[0m \u001b[0mfile\u001b[0m\u001b[0;34m\u001b[0m\u001b[0;34m\u001b[0m\u001b[0m\n\u001b[1;32m     52\u001b[0m         \u001b[0;31m# else, assume it is an open file object already\u001b[0m\u001b[0;34m\u001b[0m\u001b[0;34m\u001b[0m\u001b[0m\n",
      "\u001b[0;31mFileNotFoundError\u001b[0m: [Errno 2] No such file or directory: '/Users/v/Downloads/gam1571.ani'"
     ]
    }
   ],
   "source": [
    "from ani_file import ani_file\n",
    "f = ani_file.open('/Users/v/Downloads/gam1571.ani', 'rb')\n",
    "f.getrate()"
   ]
  },
  {
   "cell_type": "code",
   "execution_count": null,
   "id": "62e05da6-2622-4a11-a614-844d058bf728",
   "metadata": {},
   "outputs": [],
   "source": []
  }
 ],
 "metadata": {
  "kernelspec": {
   "display_name": "Python 3 (ipykernel)",
   "language": "python",
   "name": "python3"
  },
  "language_info": {
   "codemirror_mode": {
    "name": "ipython",
    "version": 3
   },
   "file_extension": ".py",
   "mimetype": "text/x-python",
   "name": "python",
   "nbconvert_exporter": "python",
   "pygments_lexer": "ipython3",
   "version": "3.10.7"
  }
 },
 "nbformat": 4,
 "nbformat_minor": 5
}
